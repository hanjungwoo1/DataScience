{
 "cells": [
  {
   "cell_type": "markdown",
   "id": "db8c236a",
   "metadata": {},
   "source": [
    "# 4. 캐글 경진대회 도전 (2) : 주택 가격 예측\n",
    "## 4.1 더 상세하게 알아보는 데이터 분석\n",
    " - 데이터 분석 방법을 좀 더 상세히 알아보기\n",
    " - 여러 머신 러닝 방법의 설계 및 조합\n",
    " - 추가 분석 (1) : 클러스터 분석에 따른 주택 분류\n",
    " - 추가 분석 (2) : 고급 주택의 조건 분석 및 시각화\n",
    " \n",
    "## 4.2 주택 가격 예측하기 경진대회란\n",
    "\n",
    "예측 정확도 평가는 평균 제곱 오차(RMSE, Root Mean Squared Error)를 사용하며, 정답 데이터와 차이가 작을수록 상위를 차지합니다.\n",
    "\n",
    "\n",
    "**분류(classification)**\n",
    "\n",
    "|ID|Survived|\n",
    "|-----|-----|\n",
    "|0|1|\n",
    "|1|1|\n",
    "|2|0|\n",
    "|3|1|\n",
    "|4|0|\n",
    "\n",
    "**회귀(regression)**\n",
    "\n",
    "|ID|SalePrice|\n",
    "|-----|-----|\n",
    "|0|112,310|\n",
    "|1|145,560|\n",
    "|2|219,200|\n",
    "|3|186,500|\n",
    "|4|134,365|\n",
    "\n",
    "평가 항목(evaluation)을 보면 Taking logs mean that errors in predicting expensive houses and cheap houses will affect the result equally"
   ]
  },
  {
   "cell_type": "markdown",
   "id": "4b15d5f7",
   "metadata": {},
   "source": [
    "## 4.3 데이터 내려받기\n",
    "\n"
   ]
  }
 ],
 "metadata": {
  "kernelspec": {
   "display_name": "Python 3 (ipykernel)",
   "language": "python",
   "name": "python3"
  },
  "language_info": {
   "codemirror_mode": {
    "name": "ipython",
    "version": 3
   },
   "file_extension": ".py",
   "mimetype": "text/x-python",
   "name": "python",
   "nbconvert_exporter": "python",
   "pygments_lexer": "ipython3",
   "version": "3.9.12"
  }
 },
 "nbformat": 4,
 "nbformat_minor": 5
}
