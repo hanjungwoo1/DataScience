{
 "cells": [
  {
   "cell_type": "markdown",
   "id": "e7e9dd7b",
   "metadata": {},
   "source": [
    "# 4. 캐글 경진대회 도전 (2) : 주택 가격 예측\n",
    "## 4.1 더 상세하게 알아보는 데이터 분석\n",
    " - 데이터 분석 방법을 좀 더 상세히 알아보기\n",
    " - 여러 머신 러닝 방법의 설계 및 조합\n",
    " - 추가 분석 (1) : 클러스터 분석에 따른 주택 분류\n",
    " - 추가 분석 (2) : 고급 주택의 조건 분석 및 시각화\n",
    " \n",
    "## 4.2 주택 가격 예측하기 경진대회란"
   ]
  }
 ],
 "metadata": {
  "kernelspec": {
   "display_name": "Python 3 (ipykernel)",
   "language": "python",
   "name": "python3"
  },
  "language_info": {
   "codemirror_mode": {
    "name": "ipython",
    "version": 3
   },
   "file_extension": ".py",
   "mimetype": "text/x-python",
   "name": "python",
   "nbconvert_exporter": "python",
   "pygments_lexer": "ipython3",
   "version": "3.9.12"
  }
 },
 "nbformat": 4,
 "nbformat_minor": 5
}
